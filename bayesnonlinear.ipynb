{
  "nbformat": 4,
  "nbformat_minor": 0,
  "metadata": {
    "colab": {
      "name": "bayesnonlinear.ipynb",
      "provenance": [],
      "include_colab_link": true
    },
    "kernelspec": {
      "name": "python3",
      "display_name": "Python 3"
    },
    "language_info": {
      "name": "python"
    }
  },
  "cells": [
    {
      "cell_type": "markdown",
      "metadata": {
        "id": "view-in-github",
        "colab_type": "text"
      },
      "source": [
        "<a href=\"https://colab.research.google.com/github/surajtopno/CS401/blob/main/bayesnonlinear.ipynb\" target=\"_parent\"><img src=\"https://colab.research.google.com/assets/colab-badge.svg\" alt=\"Open In Colab\"/></a>"
      ]
    },
    {
      "cell_type": "code",
      "metadata": {
        "id": "3CY8nncAc977"
      },
      "source": [
        "import numpy as np\n",
        "import matplotlib.pyplot as plt\n",
        "import pandas as pd"
      ],
      "execution_count": 1,
      "outputs": []
    },
    {
      "cell_type": "code",
      "metadata": {
        "id": "-z3YnLjNem9F"
      },
      "source": [
        "# load data\n",
        "X_1 = np.loadtxt('class1_train.txt')\n",
        "X_2 = np.loadtxt('class2_train.txt')\n",
        "X_1_val = np.loadtxt('class1_val.txt')\n",
        "X_2_val = np.loadtxt('class2_val.txt')\n",
        "X_1_test = np.loadtxt('class1_test.txt')\n",
        "X_2_test = np.loadtxt('class2_test.txt')"
      ],
      "execution_count": 2,
      "outputs": []
    },
    {
      "cell_type": "code",
      "metadata": {
        "colab": {
          "base_uri": "https://localhost:8080/",
          "height": 312
        },
        "id": "8F8fKmqSev-P",
        "outputId": "75c163a4-0f81-4480-93fb-20d2c775bdcb"
      },
      "source": [
        "# plotting training data\n",
        "C1plt = plt.scatter(X_1[:, 0], X_1[:, 1], color = 'red', s = 2)\n",
        "C2plt = plt.scatter(X_2[:, 0], X_2[:, 1], color = 'orange', s = 2)\n",
        "plt.legend((C1plt, C2plt), ('Class 1', 'Class 2'))\n",
        "plt.title('Training data')\n",
        "plt.xlabel('X1')\n",
        "plt.ylabel('X2')"
      ],
      "execution_count": 3,
      "outputs": [
        {
          "output_type": "execute_result",
          "data": {
            "text/plain": [
              "Text(0, 0.5, 'X2')"
            ]
          },
          "metadata": {},
          "execution_count": 3
        },
        {
          "output_type": "display_data",
          "data": {
            "image/png": "[encoded data removed]",
            "text/plain": [
              "<Figure size 432x288 with 1 Axes>"
            ]
          },
          "metadata": {
            "needs_background": "light"
          }
        }
      ]
    },
    {
      "cell_type": "code",
      "metadata": {
        "id": "zqBgYlbTe_en"
      },
      "source": [
        "# find parameters\n",
        "u_1 = np.mean(X_1, axis = 0)\n",
        "u_2 = np.mean(X_2, axis = 0)\n",
        "s_1 = np.mean(np.cov(X_1.T))\n",
        "s_2 = np.mean(np.cov(X_2.T))\n",
        "s = np.mean([s_1, s_2])\n",
        "pc_1 = X_1.shape[0]/(X_1.shape[0]+X_2.shape[0])\n",
        "pc_2 = X_2.shape[0]/(X_1.shape[0]+X_2.shape[0])"
      ],
      "execution_count": 4,
      "outputs": []
    },
    {
      "cell_type": "code",
      "metadata": {
        "id": "y-d9FQHJfFAb"
      },
      "source": [
        "# define functions g1, g2, g3\n",
        "def g1(x):\n",
        "    w1 = u_1/s\n",
        "    w0 = -np.dot(u_1.T, u_1)/(2*s) + np.log(pc_1)\n",
        "    return np.dot(w1.T, x)+w0\n",
        "def g2(x):\n",
        "    w1 = u_2/s\n",
        "    w0 = -np.dot(u_2.T, u_2)/(2*s) + np.log(pc_2)\n",
        "    return np.dot(w1.T, x)+w0"
      ],
      "execution_count": 5,
      "outputs": []
    },
    {
      "cell_type": "code",
      "metadata": {
        "id": "pTgbS0VSfK3q"
      },
      "source": [
        "# classifier\n",
        "def predict(x):\n",
        "    return np.argmax([g1(x), g2(x)])\n"
      ],
      "execution_count": 7,
      "outputs": []
    },
    {
      "cell_type": "code",
      "metadata": {
        "colab": {
          "base_uri": "https://localhost:8080/",
          "height": 112
        },
        "id": "KCy1vxRZfOH3",
        "outputId": "e9d1f1d0-0f07-420a-d028-74b4e1b7f0ea"
      },
      "source": [
        "# confusion matrix\n",
        "# rows: predicted classes, columns: true classes\n",
        "ConfusionMatrix = np.zeros((2, 2))\n",
        "X = [X_1_test, X_2_test]\n",
        "for i in range(2):\n",
        "    for x in X[i]:\n",
        "        ConfusionMatrix[predict(x), i] = ConfusionMatrix[predict(x), i]+1\n",
        "pd.DataFrame(ConfusionMatrix, ['Predicted 1', 'Predicted 2'],['True 1', 'True 2'])"
      ],
      "execution_count": 8,
      "outputs": [
        {
          "output_type": "execute_result",
          "data": {
            "text/html": [
              "<div>\n",
              "<style scoped>\n",
              "    .dataframe tbody tr th:only-of-type {\n",
              "        vertical-align: middle;\n",
              "    }\n",
              "\n",
              "    .dataframe tbody tr th {\n",
              "        vertical-align: top;\n",
              "    }\n",
              "\n",
              "    .dataframe thead th {\n",
              "        text-align: right;\n",
              "    }\n",
              "</style>\n",
              "<table border=\"1\" class=\"dataframe\">\n",
              "  <thead>\n",
              "    <tr style=\"text-align: right;\">\n",
              "      <th></th>\n",
              "      <th>True 1</th>\n",
              "      <th>True 2</th>\n",
              "    </tr>\n",
              "  </thead>\n",
              "  <tbody>\n",
              "    <tr>\n",
              "      <th>Predicted 1</th>\n",
              "      <td>139.0</td>\n",
              "      <td>119.0</td>\n",
              "    </tr>\n",
              "    <tr>\n",
              "      <th>Predicted 2</th>\n",
              "      <td>121.0</td>\n",
              "      <td>141.0</td>\n",
              "    </tr>\n",
              "  </tbody>\n",
              "</table>\n",
              "</div>"
            ],
            "text/plain": [
              "             True 1  True 2\n",
              "Predicted 1   139.0   119.0\n",
              "Predicted 2   121.0   141.0"
            ]
          },
          "metadata": {},
          "execution_count": 8
        }
      ]
    },
    {
      "cell_type": "code",
      "metadata": {
        "colab": {
          "base_uri": "https://localhost:8080/"
        },
        "id": "aNqNDuurfX7J",
        "outputId": "663738b3-31ef-4de6-c740-07714d1b425a"
      },
      "source": [
        "# performance measures\n",
        "N = np.sum(ConfusionMatrix[:, 0])\n",
        "TP = ConfusionMatrix[0, 0]\n",
        "TN = ConfusionMatrix[1, 1]\n",
        "FP = ConfusionMatrix[0, 1]\n",
        "FN = ConfusionMatrix[1, 0]\n",
        "Accuracy = 100*TP/N\n",
        "Precision = TP/(TP+FP)\n",
        "Recall = TP/(TP+FN)\n",
        "F_measure = 2*Precision*Recall/(Precision+Recall)\n",
        "print({\n",
        "    'Accuracy: ': Accuracy,\n",
        "})\n",
        "print({\n",
        "    'Precision: ': Precision,\n",
        "})\n",
        "print({\n",
        "    'Recall: ': Recall,\n",
        "})\n",
        "print({\n",
        "    'F_measure: ': F_measure,\n",
        "})"
      ],
      "execution_count": 9,
      "outputs": [
        {
          "output_type": "stream",
          "name": "stdout",
          "text": [
            "{'Accuracy: ': 53.46153846153846}\n",
            "{'Precision: ': 0.5387596899224806}\n",
            "{'Recall: ': 0.5346153846153846}\n",
            "{'F_measure: ': 0.5366795366795366}\n"
          ]
        }
      ]
    },
    {
      "cell_type": "code",
      "metadata": {
        "colab": {
          "base_uri": "https://localhost:8080/",
          "height": 312
        },
        "id": "zoQJEz2Vf2Ol",
        "outputId": "77faee17-3e30-46e7-f1cf-2f8474d77b83"
      },
      "source": [
        "# Decision region plot for all the classes together with the training data superposed\n",
        "x_min = min([min(X_1[:, 0]), min(X_2[:, 0])])\n",
        "y_min = min([min(X_1[:, 1]), min(X_2[:, 1])])\n",
        "x_max = max([max(X_1[:, 0]), max(X_2[:, 0])])\n",
        "y_max = max([max(X_1[:, 1]), max(X_2[:, 1])])\n",
        "x_1 = []\n",
        "x_2 = []\n",
        "for x in np.arange(x_min, x_max, 0.01):\n",
        "    for y in np.arange(y_min, y_max, 0.01):\n",
        "        c = predict([x, y])\n",
        "        if c == 0:\n",
        "            x_1.append([x, y])\n",
        "        elif c == 1:\n",
        "            x_2.append([x, y])\n",
        "x_1 = np.array(x_1)\n",
        "x_2 = np.array(x_2)\n",
        "plt.scatter(x_1[:], x_1[:], color = 'orange', s = 2)\n",
        "plt.scatter(x_2[:, 0], x_2[:, 1], color = 'yellow', s = 2)\n",
        "C1plt = plt.scatter(X_1[:, 0], X_1[:, 1], color = 'blue', s = 2)\n",
        "C2plt = plt.scatter(X_2[:, 0], X_2[:, 1], color = 'red', s = 2)\n",
        "plt.title('Decision regions')\n",
        "plt.xlabel('X1')\n",
        "plt.ylabel('X2')\n",
        "plt.legend((C1plt, C2plt), ('Class 1', 'Class 2'))"
      ],
      "execution_count": 11,
      "outputs": [
        {
          "output_type": "execute_result",
          "data": {
            "text/plain": [
              "<matplotlib.legend.Legend at 0x7f314b50b490>"
            ]
          },
          "metadata": {},
          "execution_count": 11
        },
        {
          "output_type": "display_data",
          "data": {
            "image/png": "[encoded data removed]",
            "text/plain": [
              "<Figure size 432x288 with 1 Axes>"
            ]
          },
          "metadata": {
            "needs_background": "light"
          }
        }
      ]
    }
  ]
}